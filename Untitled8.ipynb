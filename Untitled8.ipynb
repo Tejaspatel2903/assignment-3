{
  "nbformat": 4,
  "nbformat_minor": 0,
  "metadata": {
    "colab": {
      "provenance": []
    },
    "kernelspec": {
      "name": "python3",
      "display_name": "Python 3"
    },
    "language_info": {
      "name": "python"
    }
  },
  "cells": [
    {
      "cell_type": "markdown",
      "source": [
        "Q1. Why are functions advantageous to have in your programs?\n",
        "\n",
        "Ans. Advantages of having functions:\n",
        "Functions reduce the need for duplicate code. This makes programs shorter, easier to read, and easier to update."
      ],
      "metadata": {
        "id": "y4RUyuOdtnGe"
      }
    },
    {
      "cell_type": "markdown",
      "source": [
        "Q2. When does the code in a function run:when it's specified or when it's called?\n",
        "\n",
        "Ans . Code in the function runs when the function is called"
      ],
      "metadata": {
        "id": "UQG_hOqWtps_"
      }
    },
    {
      "cell_type": "markdown",
      "source": [
        "Q3. What statement creates a function?\n",
        "\n",
        "Ans. The def statement defines (i.e. creates) a function.\n",
        "\n",
        "Eg .\n",
        "\n",
        "def my_func():\n",
        "\n",
        "pass"
      ],
      "metadata": {
        "id": "GIVuFtbLtsLb"
      }
    },
    {
      "cell_type": "markdown",
      "source": [
        "Q4. What is the difference between a function and a function call?"
      ],
      "metadata": {
        "id": "94el5bKStvs-"
      }
    },
    {
      "cell_type": "code",
      "execution_count": null,
      "metadata": {
        "id": "GGuBKy32tmDQ"
      },
      "outputs": [],
      "source": [
        "#def of func\n",
        "def my_func(): \n",
        "    pass \n",
        "my_func() #calling of function"
      ]
    },
    {
      "cell_type": "markdown",
      "source": [
        "A function consists of the def statement and the code in its def clause.\n",
        "\n",
        "A function call is what moves the program execution into the function, and the function call evaluates to the function's return value."
      ],
      "metadata": {
        "id": "DLmfAimpuAld"
      }
    },
    {
      "cell_type": "markdown",
      "source": [
        "Q5. How many global scopes are there in a Python program? How many local scopes?\n",
        "\n",
        "Ans .There's only one global Python scope per program execution. This scope remains in existence until the program terminates , and a local scope is created whenever a function is called.\n",
        "\n"
      ],
      "metadata": {
        "id": "NzhcXxBcuDSG"
      }
    },
    {
      "cell_type": "markdown",
      "source": [
        "Q6. What happens to variables in a local scope when the function call returns?\n",
        "\n",
        "Ans. When a function returns, the local scope is destroyed."
      ],
      "metadata": {
        "id": "gkHxnR5ouU2E"
      }
    },
    {
      "cell_type": "markdown",
      "source": [
        "Q7. What is the concept of a return value? Is it possible to have a return value in an expression?\n",
        "\n",
        "Ans. A return value is the value that a function call evaluates to. Like any value, a return value can be used as part of an expression."
      ],
      "metadata": {
        "id": "tuex__xjuUy0"
      }
    },
    {
      "cell_type": "markdown",
      "source": [
        "Q8. If a function does not have a return statement, what is the return value of a call to that function?\n",
        "\n",
        "Ans. If the funtion does not have a return statement it will not return anything."
      ],
      "metadata": {
        "id": "K14T4zfjuUvz"
      }
    },
    {
      "cell_type": "markdown",
      "source": [
        "Q9. How do you make a function variable refer to the global variable?\n",
        "\n",
        "Ans. To make function variable as a global variable you can use the global keyword to declare which variables are global."
      ],
      "metadata": {
        "id": "oaDfyQluuUsc"
      }
    },
    {
      "cell_type": "markdown",
      "source": [
        "Q10. What is the data type of None?\n",
        "\n",
        "Ans . The data type of None is NoneType."
      ],
      "metadata": {
        "id": "kU6cnrrTuUpU"
      }
    },
    {
      "cell_type": "markdown",
      "source": [
        "Q11. What does the sentence import areallyourpetsnamederic do?\n",
        "\n",
        "Ans .That import statement imports a module named areallyourpetsnamederic. (But a module of this name doesnt exists in Python)"
      ],
      "metadata": {
        "id": "8QP_UDZnuUmV"
      }
    },
    {
      "cell_type": "markdown",
      "source": [
        "Q12. If you had a bacon() feature in a spam module, what would you call it after importing spam?\n",
        "\n",
        "Ans .import spam\n",
        "\n",
        "spam.bacon()"
      ],
      "metadata": {
        "id": "i3sWmk_8uUij"
      }
    },
    {
      "cell_type": "markdown",
      "source": [
        "Q13. What can you do to save a programme from crashing if it encounters an error?\n",
        "\n",
        "Ans. We can use try except clause to save a program from crashing."
      ],
      "metadata": {
        "id": "oSGC9fa-uURj"
      }
    },
    {
      "cell_type": "markdown",
      "source": [
        "Q14. What is the purpose of the try clause? What is the purpose of the except clause?\n",
        "\n",
        "Ans. The try block lets you test a block of code for errors.\n",
        "\n",
        "The except block lets you handle the error.\n",
        "\n",
        "The else block lets you execute code when there is no error.\n",
        "\n",
        "The finally block lets you execute code, regardless of the result of the try- and except blocks."
      ],
      "metadata": {
        "id": "9j9_xiiFu-uk"
      }
    },
    {
      "cell_type": "code",
      "source": [
        "try:\n",
        "  print(ABC)\n",
        "except:\n",
        "  print(\"An exception occurred\")"
      ],
      "metadata": {
        "colab": {
          "base_uri": "https://localhost:8080/"
        },
        "id": "AiebCDR-t_zw",
        "outputId": "1508578b-24d7-4f3f-9241-db107e5a4488"
      },
      "execution_count": 2,
      "outputs": [
        {
          "output_type": "stream",
          "name": "stdout",
          "text": [
            "An exception occurred\n"
          ]
        }
      ]
    }
  ]
}